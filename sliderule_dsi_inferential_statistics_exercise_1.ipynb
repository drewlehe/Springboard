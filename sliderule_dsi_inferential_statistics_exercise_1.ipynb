{
 "cells": [
  {
   "cell_type": "markdown",
   "metadata": {
    "slideshow": {
     "slide_type": "-"
    }
   },
   "source": [
    "# <h3>Exercises</h3>\n",
    "\n",
    "<p>In this exercise, you will analyze a dataset of human body temperatures and employ the concepts of hypothesis testing, confidence intervals, and statistical significance.</p>\n",
    "\n",
    "<p>Answer the following questions <b>in this notebook below and submit to your Github account</b>.</p> \n",
    "\n",
    "<ol>\n",
    "<li>  Is the distribution of body temperatures normal? \n",
    "    <ul>\n",
    "    <li> Although this is not a requirement for the Central Limit Theorem to hold (read the introduction on Wikipedia's page about the CLT carefully: https://en.wikipedia.org/wiki/Central_limit_theorem), it gives us some peace of mind that the population may also be normally distributed if we assume that this sample is representative of the population.\n",
    "    <li> Think about the way you're going to check for the normality of the distribution. Graphical methods are usually used first, but there are also other ways: https://en.wikipedia.org/wiki/Normality_test\n",
    "    </ul>\n",
    "<li>  Is the sample size large? Are the observations independent?\n",
    "    <ul>\n",
    "    <li> Remember that this is a condition for the Central Limit Theorem, and hence the statistical tests we are using, to apply.\n",
    "    </ul>\n",
    "<li>  Is the true population mean really 98.6 degrees F?\n",
    "    <ul>\n",
    "    <li> First, try a bootstrap hypothesis test.\n",
    "    <li> Now, let's try frequentist statistical testing. Would you use a one-sample or two-sample test? Why?\n",
    "    <li> In this situation, is it appropriate to use the $t$ or $z$ statistic? \n",
    "    <li> Now try using the other test. How is the result be different? Why?\n",
    "    </ul>\n",
    "<li>  Draw a small sample of size 10 from the data and repeat both frequentist tests. \n",
    "    <ul>\n",
    "    <li> Which one is the correct one to use? \n",
    "    <li> What do you notice? What does this tell you about the difference in application of the $t$ and $z$ statistic?\n",
    "    </ul>\n",
    "<li>  At what temperature should we consider someone's temperature to be \"abnormal\"?\n",
    "    <ul>\n",
    "    <li> As in the previous example, try calculating everything using the boostrap approach, as well as the frequentist approach.\n",
    "    <li> Start by computing the margin of error and confidence interval. When calculating the confidence interval, keep in mind that you should use the appropriate formula for one draw, and not N draws.\n",
    "    </ul>\n",
    "<li>  Is there a significant difference between males and females in normal temperature?\n",
    "    <ul>\n",
    "    <li> What testing approach did you use and why?\n",
    "    <li> Write a story with your conclusion in the context of the original problem.\n",
    "    </ul>\n",
    "</ol>\n",
    "\n",
    "You can include written notes in notebook cells using Markdown: \n",
    "   - In the control panel at the top, choose Cell > Cell Type > Markdown\n",
    "   - Markdown syntax: http://nestacms.com/docs/creating-content/markdown-cheat-sheet\n",
    "\n",
    "#### Resources\n",
    "\n",
    "+ Information and data sources: http://www.amstat.org/publications/jse/datasets/normtemp.txt, http://www.amstat.org/publications/jse/jse_data_archive.htm\n",
    "+ Markdown syntax: http://nestacms.com/docs/creating-content/markdown-cheat-sheet\n",
    "\n",
    "****"
   ]
  },
  {
   "cell_type": "markdown",
   "metadata": {},
   "source": [
    "# What is the True Normal Human Body Temperature? \n",
    "\n",
    "#### Background\n",
    "\n",
    "The mean normal body temperature was held to be 37$^{\\circ}$C or 98.6$^{\\circ}$F for more than 120 years since it was first conceptualized and reported by Carl Wunderlich in a famous 1868 book. But, is this value statistically correct?"
   ]
  },
  {
   "cell_type": "code",
   "execution_count": 5,
   "metadata": {
    "collapsed": true
   },
   "outputs": [],
   "source": [
    "import pandas as pd\n",
    "\n",
    "df = pd.read_csv('data/human_body_temperature.csv')"
   ]
  },
  {
   "cell_type": "code",
   "execution_count": 21,
   "metadata": {},
   "outputs": [
    {
     "name": "stdout",
     "output_type": "stream",
     "text": [
      "   temperature gender  heart_rate\n",
      "0         99.3      F        68.0\n",
      "1         98.4      F        81.0\n",
      "2         97.8      M        73.0\n",
      "3         99.2      F        66.0\n",
      "4         98.0      F        73.0\n",
      "       temperature  heart_rate\n",
      "count   130.000000  130.000000\n",
      "mean     98.249231   73.761538\n",
      "std       0.733183    7.062077\n",
      "min      96.300000   57.000000\n",
      "25%      97.800000   69.000000\n",
      "50%      98.300000   74.000000\n",
      "75%      98.700000   79.000000\n",
      "max     100.800000   89.000000\n"
     ]
    }
   ],
   "source": [
    "# 1. Is the distribution of body temperatures normal? \n",
    "# I'll begin with some EDA to get a feel for the data.\n",
    "import numpy as np\n",
    "import matplotlib.pyplot as plt\n",
    "import seaborn as sns\n",
    "sns.set(color_codes=True)\n",
    "sns.set_style(\"darkgrid\")\n",
    "sns.set_context(\"poster\")\n",
    "%matplotlib inline\n",
    "print(df.head())\n",
    "print(df.describe())"
   ]
  },
  {
   "cell_type": "code",
   "execution_count": 91,
   "metadata": {},
   "outputs": [
    {
     "data": {
      "image/png": "[encoded data removed]",
      "text/plain": [
       "<matplotlib.figure.Figure at 0xfd54470>"
      ]
     },
     "metadata": {},
     "output_type": "display_data"
    }
   ],
   "source": [
    "#So we have 3 columns (features), and our mean appears to be close to Wunderlich's 98.6. \n",
    "#displot() gives a histogram with a gaussian KDE curve so proves useful for single-variate comparison to Normal\n",
    "plt.xlim(95,102)\n",
    "plt.style.use('seaborn-deep')\n",
    "g=sns.distplot(df['temperature'], rug=True, bins=11, color=\"g\")\n",
    "plt.show()\n"
   ]
  },
  {
   "cell_type": "code",
   "execution_count": 92,
   "metadata": {},
   "outputs": [
    {
     "data": {
      "image/png": "[encoded data removed]",
      "text/plain": [
       "<matplotlib.figure.Figure at 0x10d99c88>"
      ]
     },
     "metadata": {},
     "output_type": "display_data"
    }
   ],
   "source": [
    "import pylab\n",
    "sns.set(rc={\"figure.figsize\": (12, 8)})\n",
    "plt.style.use('seaborn-deep')\n",
    "stats.probplot(temp, dist='norm', plot=pylab)\n",
    "plt.title('Fig. 1.2: Probability Plot of Human Body Temperatures');"
   ]
  },
  {
   "cell_type": "code",
   "execution_count": 76,
   "metadata": {},
   "outputs": [
    {
     "name": "stdout",
     "output_type": "stream",
     "text": [
      "The z-statstic of the normality test is 2.704 with a p-value of 0.259. The distribution is not normal.\n"
     ]
    }
   ],
   "source": [
    "nt = stats.mstats.normaltest(df['temperature']) \n",
    "print('The z-statstic of the normality test is {:1.3f} with a p-value of {:1.3f}. The distribution is not normal.'.format(nt[0],nt[1]))"
   ]
  },
  {
   "cell_type": "markdown",
   "metadata": {},
   "source": [
    "### Answer 2\n",
    "Yes, the sample size is large (over 30) and the observations are independent."
   ]
  },
  {
   "cell_type": "markdown",
   "metadata": {},
   "source": [
    "### Answer\n",
    "The histogram roughly appears normal with much tweaking of the parameters. \n",
    "Visually, I'd estimate this isn't normal, but we need something more rigorous."
   ]
  },
  {
   "cell_type": "code",
   "execution_count": 66,
   "metadata": {},
   "outputs": [
    {
     "name": "stdout",
     "output_type": "stream",
     "text": [
      "p-value: 0\n",
      "mean: 98.247\n"
     ]
    }
   ],
   "source": [
    "#Is the true population mean really 98.6 degrees F? First, try a bootstrap hypothesis test. \n",
    "#Using scikit-learn's resample tool:\n",
    "# bootstrap hypothesis test with 500 samples\n",
    "bs_replicates = np.empty(500)\n",
    "\n",
    "size = len(bs_replicates)\n",
    "\n",
    "for i in range(size):\n",
    "    bs_sample = np.random.choice(temp, len(temp))\n",
    "    bs_replicates[i] = np.mean(bs_sample)\n",
    "    \n",
    "p = np.sum(bs_replicates >= 98.6) / size\n",
    "\n",
    "print('p-value: {}'.format(p))\n",
    "print('mean: {:0.5}'.format(np.mean(bs_replicates)))"
   ]
  },
  {
   "cell_type": "code",
   "execution_count": 68,
   "metadata": {
    "scrolled": true
   },
   "outputs": [
    {
     "name": "stdout",
     "output_type": "stream",
     "text": [
      "Ttest_1sampResult(statistic=-8.8784707739013005, pvalue=1.2228971548896121e-17)\n"
     ]
    }
   ],
   "source": [
    "#3 cont'd: Now, let's try frequentist statistical testing. Would you use a one-sample or two-sample test? Why?\n",
    "import scipy.stats\n",
    "wundermu= 98.6\n",
    "\n",
    "onesample_results = scipy.stats.ttest_1samp(boot, wundermu)\n",
    "print onesample_results"
   ]
  },
  {
   "cell_type": "markdown",
   "metadata": {},
   "source": [
    "### Answer:\n",
    "I'm using a one-sample t-test because we have one sample population compared to a hypothesized mean: 98.6. A Z-statistic would require a population standard deviation, which we don't have.\n"
   ]
  },
  {
   "cell_type": "code",
   "execution_count": 79,
   "metadata": {},
   "outputs": [
    {
     "name": "stdout",
     "output_type": "stream",
     "text": [
      "The z-statistic is -5.455 and the p-value is 0.00000005. We may reject the null hypothesis that the true population mean is 98.6.\n"
     ]
    }
   ],
   "source": [
    "#Now try the other frequentist test.\n",
    "n = len(df.temperature)\n",
    "se = temp_std/np.sqrt(n)\n",
    "z_stat = (temp_mean - 98.6)/se\n",
    "p_val = stats.norm.sf(np.abs(z_stat))*2\n",
    "print(\"The z-statistic is {:1.3f} and the p-value is {:1.8f}. We may reject the null hypothesis that the true population mean is 98.6.\".format(z_stat, p_val))"
   ]
  },
  {
   "cell_type": "markdown",
   "metadata": {},
   "source": [
    "    4. Draw a small sample of size 10 from the data and repeat both frequentist tests.\n",
    "\n",
    "    Which one is the correct one to use?\n",
    "    What do you notice? What does this tell you about the difference in application of the tt and zz statistic? "
   ]
  },
  {
   "cell_type": "code",
   "execution_count": 82,
   "metadata": {},
   "outputs": [
    {
     "name": "stdout",
     "output_type": "stream",
     "text": [
      "t-score: -1.856\n",
      "p-value: 0.09642\n"
     ]
    }
   ],
   "source": [
    "sample_temp = np.random.choice(a = temp, size=10)\n",
    "r = stats.ttest_1samp(sample_temp, 98.6)\n",
    "print('t-score: {:0.4}\\np-value: {:0.4}'.format(r.statistic, r.pvalue))"
   ]
  },
  {
   "cell_type": "markdown",
   "metadata": {},
   "source": [
    " At what temperature should we consider someone's temperature to be \"abnormal\"?\n",
    "\n",
    "    As in the previous example, try calculating everything using the bootstrap approach, as well as the frequentist approach.\n",
    "    Start by computing the margin of error and confidence interval. When calculating the confidence interval, keep in mind that you should use the appropriate formula for one draw, and not N draws."
   ]
  },
  {
   "cell_type": "code",
   "execution_count": 93,
   "metadata": {},
   "outputs": [
    {
     "name": "stdout",
     "output_type": "stream",
     "text": [
      "sample mean: 98.25\n",
      "sample standard deviation: 0.7304\n",
      "\n"
     ]
    }
   ],
   "source": [
    "# get the sample mean and standard deviation for use with bootstrap and frequentist approaches below\n",
    "x_bar = np.mean(temp)\n",
    "s = np.std(temp)\n",
    "print('sample mean: {:0.4}\\nsample standard deviation: {:0.4}\\n'.format(x_bar, s))"
   ]
  },
  {
   "cell_type": "code",
   "execution_count": 94,
   "metadata": {},
   "outputs": [
    {
     "name": "stdout",
     "output_type": "stream",
     "text": [
      "p-value: 0\n",
      "95% confidence interval: 96.818 - 99.681\n",
      "margin of error: +/-1.4315\n",
      "\n",
      "\n"
     ]
    }
   ],
   "source": [
    "# Calculates p value using 100,000 boostrap replicates\n",
    "bootstrap_replicates = np.empty(100000)\n",
    "\n",
    "size = len(bootstrap_replicates)\n",
    "\n",
    "for i in range(size):\n",
    "    bootstrap_sample = np.random.choice(temp, size=len(temp))\n",
    "    bootstrap_replicates[i] = np.mean(bootstrap_sample)\n",
    "\n",
    "p = np.sum(bootstrap_replicates >= 98.6) / len(bootstrap_replicates)\n",
    "print('p-value: {}'.format(p))\n",
    "\n",
    "x_bar = np.mean(bootstrap_replicates)\n",
    "ci = stats.norm.interval(0.95, loc=x_bar, scale=s)\n",
    "\n",
    "print('95% confidence interval: {:0.5} - {:0.5}'.format(ci[0], ci[1]))\n",
    "print('margin of error: +/-{:0.5}\\n\\n'.format((ci[1] - x_bar)))"
   ]
  },
  {
   "cell_type": "code",
   "execution_count": 96,
   "metadata": {},
   "outputs": [
    {
     "name": "stdout",
     "output_type": "stream",
     "text": [
      "95% confidence interval: 96.818 - 99.681\n",
      "margin of error: +/-1.4315\n"
     ]
    }
   ],
   "source": [
    "# frequentist approach - confidence interval for the one-sample t-test\n",
    "\n",
    "# alpha = 0.05\n",
    "\n",
    "# confidence interval for one draw\n",
    "ci_low_f, ci_high_f = stats.norm.interval(0.95, loc=x_bar, scale=s)\n",
    "print('95% confidence interval: {:0.5} - {:0.5}'.format(ci_low_f, ci_high_f))\n",
    "\n",
    "# margin of error \n",
    "print('margin of error: +/-{:0.5}'.format((ci_high_f - x_bar))) "
   ]
  },
  {
   "cell_type": "code",
   "execution_count": 97,
   "metadata": {},
   "outputs": [
    {
     "name": "stdout",
     "output_type": "stream",
     "text": [
      "The t-statistic is -2.285 and the p-value is 0.0239319\n"
     ]
    }
   ],
   "source": [
    "# Compute a t-statistic to test the difference in means between males and females\n",
    "\n",
    "males = df['temperature'][df.gender=='M']\n",
    "females = df['temperature'][df.gender=='F']\n",
    "n_m = len(males)\n",
    "n_f = len(females)\n",
    "diff = males.mean() - females.mean()\n",
    "std = np.sqrt(males.var()/n_m + females.var()/n_f)\n",
    "\n",
    "t_stat_d = (diff - 0)/std\n",
    "p_value_d = stats.t.sf(np.abs(t_stat_d), n_m+n_f-2)*2\n",
    "print(\"The t-statistic is {:1.3f} and the p-value is {:1.7f}\".format(t_stat_d, p_value_d))"
   ]
  },
  {
   "cell_type": "code",
   "execution_count": 100,
   "metadata": {},
   "outputs": [
    {
     "data": {
      "text/plain": [
       "array([<matplotlib.axes._subplots.AxesSubplot object at 0x000000001018C4E0>,\n",
       "       <matplotlib.axes._subplots.AxesSubplot object at 0x0000000010C25C88>], dtype=object)"
      ]
     },
     "execution_count": 100,
     "metadata": {},
     "output_type": "execute_result"
    },
    {
     "data": {
      "image/png": "[encoded data removed]",
      "text/plain": [
       "<matplotlib.figure.Figure at 0x10130c88>"
      ]
     },
     "metadata": {},
     "output_type": "display_data"
    }
   ],
   "source": [
    "\n",
    "\n",
    "# Show histograms for males and females separately\n",
    "df['temperature'].hist(by=df['gender'], width=0.4, range=[96, 101])\n",
    "\n"
   ]
  },
  {
   "cell_type": "markdown",
   "metadata": {},
   "source": [
    "The normal body temperature has been generally accepted as 98.6$^{\\circ}$F for a long time, but the dataset here shows that the mean body temperature from a sample of 130 subjects is about 98.2$^{\\circ}$F. Using the sample to test whether the true body temperature is 98.6$^{\\circ}$F or not, we obtain a t-statistic of -5.455 with a p-value less than 0.001, rendering evidence to reject the widely accepted view. Moreover, the 99% confidence interval of the mean temperature ranges from 98.08 to 98.42 and is still strictly below the claim of 98.6.\n",
    "\n",
    "The mean temperatures for men and women are 98.1 and 98.4, which are both within the 99% confidence interval. A natural question is to ask if the difference between gender is statistically significant. A two-sample t test yields a t-statistic of -2.285 with a p-value of 0.024, providing no strong evidence for or against the claim of no difference. However, women having higher core temperatures on average might help explain why women often feel colder than men. Since women are used to high body temperatures, cold air will feel even colder to the body. But more research is needed to answer the question on the gender difference in body temperatures and explain why."
   ]
  }
 ],
 "metadata": {
  "celltoolbar": "Slideshow",
  "kernelspec": {
   "display_name": "Python [default]",
   "language": "python",
   "name": "python2"
  },
  "language_info": {
   "codemirror_mode": {
    "name": "ipython",
    "version": 2
   },
   "file_extension": ".py",
   "mimetype": "text/x-python",
   "name": "python",
   "nbconvert_exporter": "python",
   "pygments_lexer": "ipython2",
   "version": "2.7.13"
  }
 },
 "nbformat": 4,
 "nbformat_minor": 1
}
