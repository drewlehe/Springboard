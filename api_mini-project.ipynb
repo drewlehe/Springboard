{
 "cells": [
  {
   "cell_type": "markdown",
   "metadata": {},
   "source": [
    "This exercise will require you to pull some data from the Quandl API. Qaundl is currently the most widely used aggregator of financial market data."
   ]
  },
  {
   "cell_type": "markdown",
   "metadata": {},
   "source": [
    "As a first step, you will need to register a free account on the http://www.quandl.com website."
   ]
  },
  {
   "cell_type": "markdown",
   "metadata": {},
   "source": [
    "After you register, you will be provided with a unique API key, that you should store:"
   ]
  },
  {
   "cell_type": "code",
   "execution_count": 9,
   "metadata": {},
   "outputs": [],
   "source": [
    "# Store the API key as a string - according to PEP8, constants are always named in all upper case\n",
    "API_KEY = 'sXkbi3RPJZZexc1SyQdu'"
   ]
  },
  {
   "cell_type": "markdown",
   "metadata": {},
   "source": [
    "Qaundl has a large number of data sources, but, unfortunately, most of them require a Premium subscription. Still, there are also a good number of free datasets."
   ]
  },
  {
   "cell_type": "markdown",
   "metadata": {},
   "source": [
    "For this mini project, we will focus on equities data from the Frankfurt Stock Exhange (FSE), which is available for free. We'll try and analyze the stock prices of a company called Carl Zeiss Meditec, which manufactures tools for eye examinations, as well as medical lasers for laser eye surgery: https://www.zeiss.com/meditec/int/home.html. The company is listed under the stock ticker AFX_X."
   ]
  },
  {
   "cell_type": "markdown",
   "metadata": {},
   "source": [
    "You can find the detailed Quandl API instructions here: https://docs.quandl.com/docs/time-series"
   ]
  },
  {
   "cell_type": "markdown",
   "metadata": {},
   "source": [
    "While there is a dedicated Python package for connecting to the Quandl API, we would prefer that you use the *requests* package, which can be easily downloaded using *pip* or *conda*. You can find the documentation for the package here: http://docs.python-requests.org/en/master/ "
   ]
  },
  {
   "cell_type": "markdown",
   "metadata": {},
   "source": [
    "Finally, apart from the *requests* package, you are encouraged to not use any third party Python packages, such as *pandas*, and instead focus on what's available in the Python Standard Library (the *collections* module might come in handy: https://pymotw.com/3/collections/).\n",
    "Also, since you won't have access to DataFrames, you are encouraged to us Python's native data structures - preferably dictionaries, though some questions can also be answered using lists.\n",
    "You can read more on these data structures here: https://docs.python.org/3/tutorial/datastructures.html"
   ]
  },
  {
   "cell_type": "markdown",
   "metadata": {},
   "source": [
    "Keep in mind that the JSON responses you will be getting from the API map almost one-to-one to Python's dictionaries. Unfortunately, they can be very nested, so make sure you read up on indexing dictionaries in the documentation provided above."
   ]
  },
  {
   "cell_type": "code",
   "execution_count": 10,
   "metadata": {},
   "outputs": [],
   "source": [
    "# First, import the relevant modules\n",
    "import requests"
   ]
  },
  {
   "cell_type": "code",
   "execution_count": 11,
   "metadata": {},
   "outputs": [
    {
     "data": {
      "text/plain": [
       "{'dataset': {'id': 9775687,\n",
       "  'dataset_code': 'FB',\n",
       "  'database_code': 'WIKI',\n",
       "  'name': 'Facebook Inc. (FB) Prices, Dividends, Splits and Trading Volume',\n",
       "  'description': \"End of day open, high, low, close and volume, dividends and splits, and split/dividend adjusted open, high, low close and volume for Facebook, Inc. (FB). Ex-Dividend is non-zero on ex-dividend dates. Split Ratio is 1 on non-split dates. Adjusted prices are calculated per CRSP (www.crsp.com/products/documentation/crsp-calculations)\\n\\nThis data is in the public domain. You may copy, distribute, disseminate or include the data in other products for commercial and/or noncommercial purposes.\\n\\nThis data is part of Quandl's Wiki initiative to get financial data permanently into the public domain. Quandl relies on users like you to flag errors and provide data where data is wrong or missing. Get involved: connect@quandl.com\\n\",\n",
       "  'refreshed_at': '2018-03-27T21:46:11.036Z',\n",
       "  'newest_available_date': '2018-03-27',\n",
       "  'oldest_available_date': '2012-05-18',\n",
       "  'column_names': ['Date',\n",
       "   'Open',\n",
       "   'High',\n",
       "   'Low',\n",
       "   'Close',\n",
       "   'Volume',\n",
       "   'Ex-Dividend',\n",
       "   'Split Ratio',\n",
       "   'Adj. Open',\n",
       "   'Adj. High',\n",
       "   'Adj. Low',\n",
       "   'Adj. Close',\n",
       "   'Adj. Volume'],\n",
       "  'frequency': 'daily',\n",
       "  'type': 'Time Series',\n",
       "  'premium': False,\n",
       "  'limit': 6,\n",
       "  'transform': None,\n",
       "  'column_index': None,\n",
       "  'start_date': '2014-01-01',\n",
       "  'end_date': '2014-12-31',\n",
       "  'data': [['2014-12-31',\n",
       "    79.54,\n",
       "    79.8,\n",
       "    77.86,\n",
       "    78.02,\n",
       "    20040439.0,\n",
       "    0.0,\n",
       "    1.0,\n",
       "    79.54,\n",
       "    79.8,\n",
       "    77.86,\n",
       "    78.02,\n",
       "    20040439.0],\n",
       "   ['2014-12-30',\n",
       "    79.85,\n",
       "    80.59,\n",
       "    79.1,\n",
       "    79.22,\n",
       "    14370763.0,\n",
       "    0.0,\n",
       "    1.0,\n",
       "    79.85,\n",
       "    80.59,\n",
       "    79.1,\n",
       "    79.22,\n",
       "    14370763.0],\n",
       "   ['2014-12-29',\n",
       "    80.49,\n",
       "    80.96,\n",
       "    79.71,\n",
       "    80.02,\n",
       "    14134666.0,\n",
       "    0.0,\n",
       "    1.0,\n",
       "    80.49,\n",
       "    80.96,\n",
       "    79.71,\n",
       "    80.02,\n",
       "    14134666.0],\n",
       "   ['2014-12-26',\n",
       "    81.02,\n",
       "    81.28,\n",
       "    80.51,\n",
       "    80.775,\n",
       "    10647388.0,\n",
       "    0.0,\n",
       "    1.0,\n",
       "    81.02,\n",
       "    81.28,\n",
       "    80.51,\n",
       "    80.775,\n",
       "    10647388.0],\n",
       "   ['2014-12-24',\n",
       "    81.03,\n",
       "    81.43,\n",
       "    80.75,\n",
       "    80.77,\n",
       "    7685481.0,\n",
       "    0.0,\n",
       "    1.0,\n",
       "    81.03,\n",
       "    81.43,\n",
       "    80.75,\n",
       "    80.77,\n",
       "    7685481.0],\n",
       "   ['2014-12-23',\n",
       "    82.02,\n",
       "    82.17,\n",
       "    80.4,\n",
       "    80.61,\n",
       "    19865820.0,\n",
       "    0.0,\n",
       "    1.0,\n",
       "    82.02,\n",
       "    82.17,\n",
       "    80.4,\n",
       "    80.61,\n",
       "    19865820.0]],\n",
       "  'collapse': None,\n",
       "  'order': None,\n",
       "  'database_id': 4922}}"
      ]
     },
     "execution_count": 11,
     "metadata": {},
     "output_type": "execute_result"
    }
   ],
   "source": [
    "# Now, call the Quandl API and pull out a small sample of the data (only one day) to get a glimpse\n",
    "# into the JSON structure that will be returned\n",
    "url = 'https://www.quandl.com/api/v3/datasets/WIKI/FB.json?ollapse=annual&rows=6&start_date=2014-01-01&end_date=2014-12-31&api_key='+API_KEY\n",
    "r = requests.get(url)\n",
    "r.json()"
   ]
  },
  {
   "cell_type": "code",
   "execution_count": 24,
   "metadata": {},
   "outputs": [],
   "source": [
    "# Inspect the JSON structure of the object you created, and take note of how nested it is,\n",
    "# as well as the overall structure\n",
    "r.json()['dataset']"
   ]
  },
  {
   "cell_type": "code",
   "execution_count": 13,
   "metadata": {},
   "outputs": [
    {
     "data": {
      "text/plain": [
       "dict_keys(['id', 'dataset_code', 'database_code', 'name', 'description', 'refreshed_at', 'newest_available_date', 'oldest_available_date', 'column_names', 'frequency', 'type', 'premium', 'limit', 'transform', 'column_index', 'start_date', 'end_date', 'data', 'collapse', 'order', 'database_id'])"
      ]
     },
     "execution_count": 13,
     "metadata": {},
     "output_type": "execute_result"
    }
   ],
   "source": [
    "r.json()['dataset'].keys()"
   ]
  },
  {
   "cell_type": "markdown",
   "metadata": {},
   "source": [
    "These are your tasks for this mini project:"
   ]
  },
  {
   "cell_type": "markdown",
   "metadata": {},
   "source": [
    "1. Collect data from the Franfurt Stock Exchange, for the ticker AFX_X, for the whole year 2017 (keep in mind that the date format is YYYY-MM-DD)."
   ]
  },
  {
   "cell_type": "code",
   "execution_count": 14,
   "metadata": {},
   "outputs": [],
   "source": [
    "START_END = '2017-01-01'\n",
    "END_DATE = '=2017-12-31'\n",
    "url = 'https://www.quandl.com/api/v3/datasets/FSE/AFX_X.json?start_date='+START_END+'&end_date='+END_DATE+'&api_key='+API_KEY\n",
    "response = requests.get(url)"
   ]
  },
  {
   "cell_type": "markdown",
   "metadata": {},
   "source": [
    "2. Convert the returned JSON object into a Python dictionary."
   ]
  },
  {
   "cell_type": "code",
   "execution_count": 15,
   "metadata": {},
   "outputs": [],
   "source": [
    "if (response.status_code == 200):\n",
    "    stock_dict =  response.json()\n",
    "else:\n",
    "    print(\"Error fetching data\")"
   ]
  },
  {
   "cell_type": "markdown",
   "metadata": {},
   "source": [
    "3. Calculate what the highest and lowest opening prices were for the stock in this period."
   ]
  },
  {
   "cell_type": "code",
   "execution_count": 16,
   "metadata": {},
   "outputs": [],
   "source": [
    "column_names = stock_dict['dataset']['column_names']\n",
    "#print(column_names)"
   ]
  },
  {
   "cell_type": "code",
   "execution_count": 17,
   "metadata": {},
   "outputs": [],
   "source": [
    "data_list = stock_dict['dataset']['data']\n",
    "#print(data_list)"
   ]
  },
  {
   "cell_type": "code",
   "execution_count": 18,
   "metadata": {},
   "outputs": [],
   "source": [
    "# Dictionary -  keys: columns, values:list of values on all days\n",
    "required_cols = ['Open', 'High','Low','Close','Traded Volume']\n",
    "formatted_stock_dict = {}\n",
    "for data in data_list:\n",
    "    for col in required_cols:\n",
    "        index_in_data = column_names.index(col)\n",
    "        formatted_stock_dict.setdefault(col, []).append(data[index_in_data])\n",
    "#print(formatted_stock_dict)"
   ]
  },
  {
   "cell_type": "code",
   "execution_count": 19,
   "metadata": {},
   "outputs": [
    {
     "name": "stdout",
     "output_type": "stream",
     "text": [
      "The highest opening price: 53.11\n",
      "The lowest opening price: 34.0\n"
     ]
    }
   ],
   "source": [
    "opening_prices_sorted = list(filter(None,formatted_stock_dict['Open']))\n",
    "opening_prices_sorted.sort()\n",
    "print(\"The highest opening price:\" , opening_prices_sorted[-1])\n",
    "print(\"The lowest opening price:\" , opening_prices_sorted[0])"
   ]
  },
  {
   "cell_type": "markdown",
   "metadata": {},
   "source": [
    "4. What was the largest change in any one day (based on High and Low price)?"
   ]
  },
  {
   "cell_type": "code",
   "execution_count": 20,
   "metadata": {},
   "outputs": [
    {
     "name": "stdout",
     "output_type": "stream",
     "text": [
      "The largest change in any one day: 2.81\n"
     ]
    }
   ],
   "source": [
    "high_low_diff_per_day = [formatted_stock_dict['High'][i] - formatted_stock_dict['Low'][i] for i in range(len(formatted_stock_dict['High']))]\n",
    "high_low_diff_per_day.sort()\n",
    "print(\"The largest change in any one day:\",round(high_low_diff_per_day[-1],4))"
   ]
  },
  {
   "cell_type": "markdown",
   "metadata": {},
   "source": [
    "5. What was the largest change between any two days (based on Closing Price)?\n"
   ]
  },
  {
   "cell_type": "code",
   "execution_count": 21,
   "metadata": {},
   "outputs": [
    {
     "name": "stdout",
     "output_type": "stream",
     "text": [
      "The largest change between any 2 days: 2.56\n"
     ]
    }
   ],
   "source": [
    "close_diff = []\n",
    "for i in range(len(formatted_stock_dict['Close'])-1):\n",
    "    j = i+1\n",
    "    diff = abs(formatted_stock_dict['Close'][i] - formatted_stock_dict['Close'][j])\n",
    "    close_diff.append(diff)\n",
    "close_diff.sort()\n",
    "print(\"The largest change between any 2 days:\", round(close_diff[-1],4))"
   ]
  },
  {
   "cell_type": "markdown",
   "metadata": {},
   "source": [
    "6. What was the average daily trading volume during this year?"
   ]
  },
  {
   "cell_type": "code",
   "execution_count": 22,
   "metadata": {},
   "outputs": [
    {
     "name": "stdout",
     "output_type": "stream",
     "text": [
      "The average trading volume: 89124.3373\n"
     ]
    }
   ],
   "source": [
    "avg_daily_traded_volume = sum(formatted_stock_dict['Traded Volume'])/len(formatted_stock_dict['Traded Volume'])\n",
    "print(\"The average trading volume:\", round(avg_daily_traded_volume,4))\n"
   ]
  },
  {
   "cell_type": "markdown",
   "metadata": {},
   "source": [
    "7. (Optional) What was the median trading volume during this year. (Note: you may need to implement your own function for calculating the median.)"
   ]
  },
  {
   "cell_type": "code",
   "execution_count": 23,
   "metadata": {},
   "outputs": [
    {
     "name": "stdout",
     "output_type": "stream",
     "text": [
      "The median trading volume: 76286.0\n"
     ]
    }
   ],
   "source": [
    "def median(list_to_sort):\n",
    "    if(len(list_to_sort)) > 1:\n",
    "        list_to_sort.sort()\n",
    "        mid_value = int(str(len(list_to_sort)/2).split(\".\")[0])\n",
    "        if len(list_to_sort)%2 != 0:\n",
    "            return list_to_sort[mid_value]\n",
    "        else:\n",
    "            second_index = mid_value\n",
    "            first_index = second_index-1\n",
    "            return (list_to_sort[first_index] + list_to_sort[second_index])/2\n",
    "    else:\n",
    "        print(\"Median does not exist\")\n",
    "        \n",
    "median_trading_volume = median(formatted_stock_dict['Traded Volume'])\n",
    "print(\"The median trading volume:\",median_trading_volume)"
   ]
  }
 ],
 "metadata": {
  "kernelspec": {
   "display_name": "Python 3",
   "language": "python",
   "name": "python3"
  },
  "language_info": {
   "codemirror_mode": {
    "name": "ipython",
    "version": 3
   },
   "file_extension": ".py",
   "mimetype": "text/x-python",
   "name": "python",
   "nbconvert_exporter": "python",
   "pygments_lexer": "ipython3",
   "version": "3.7.6"
  }
 },
 "nbformat": 4,
 "nbformat_minor": 2
}
