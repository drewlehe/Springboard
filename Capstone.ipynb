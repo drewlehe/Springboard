{
 "cells": [
  {
   "cell_type": "markdown",
   "metadata": {},
   "source": [
    "### Capstone: Intermediate Data Science with Python\n",
    "In this project we will examine which features buyers prefer over others in the Washington D.C. residential dataset. Of particular interest is the question: do buyers prefer different features (or houses) at different times of year? Also, does proximity to townhomes increase residential value? Which 20-year period produced buildings of the least value (I hypothesize 1965-1985)?\n",
    "\n",
    "For the ML aspect, I would like to read features of a house and predict its neighborhood and/or price.\n",
    "Another question would be \"What are the most valuable features on the houses?\"\n",
    "\n",
    "Decision Tree: Predict neighborhood (out of the 30 largest neighborhoods)\n",
    "\n",
    "Decision Tree Regression: Predict year built and/or price, compare to simple Linear Regression via RMSE."
   ]
  },
  {
   "cell_type": "code",
   "execution_count": 2,
   "metadata": {},
   "outputs": [],
   "source": [
    "import pandas as pd\n",
    "import matplotlib.pyplot as plt\n",
    "import matplotlib\n",
    "import seaborn as sns\n",
    "import numpy as np\n",
    "sns.set_style('darkgrid')\n",
    "%matplotlib inline\n",
    "df=pd.read_csv(\"../dc-residential-properties/DC2R.csv\", index_col=0)"
   ]
  },
  {
   "cell_type": "code",
   "execution_count": 2,
   "metadata": {},
   "outputs": [
    {
     "data": {
      "text/html": [
       "<div>\n",
       "<style scoped>\n",
       "    .dataframe tbody tr th:only-of-type {\n",
       "        vertical-align: middle;\n",
       "    }\n",
       "\n",
       "    .dataframe tbody tr th {\n",
       "        vertical-align: top;\n",
       "    }\n",
       "\n",
       "    .dataframe thead th {\n",
       "        text-align: right;\n",
       "    }\n",
       "</style>\n",
       "<table border=\"1\" class=\"dataframe\">\n",
       "  <thead>\n",
       "    <tr style=\"text-align: right;\">\n",
       "      <th></th>\n",
       "      <th>BATHRM</th>\n",
       "      <th>NUM_UNITS</th>\n",
       "      <th>ROOMS</th>\n",
       "      <th>BEDRM</th>\n",
       "      <th>AYB</th>\n",
       "      <th>STORIES</th>\n",
       "      <th>PRICE</th>\n",
       "      <th>GBA</th>\n",
       "      <th>KITCHENS</th>\n",
       "      <th>FIREPLACES</th>\n",
       "      <th>LANDAREA</th>\n",
       "    </tr>\n",
       "  </thead>\n",
       "  <tbody>\n",
       "    <tr>\n",
       "      <th>count</th>\n",
       "      <td>106696.000000</td>\n",
       "      <td>106696.000000</td>\n",
       "      <td>106696.000000</td>\n",
       "      <td>106696.000000</td>\n",
       "      <td>106455.000000</td>\n",
       "      <td>106652.000000</td>\n",
       "      <td>5.790000e+04</td>\n",
       "      <td>106696.000000</td>\n",
       "      <td>106695.000000</td>\n",
       "      <td>106696.000000</td>\n",
       "      <td>106696.000000</td>\n",
       "    </tr>\n",
       "    <tr>\n",
       "      <th>mean</th>\n",
       "      <td>2.033103</td>\n",
       "      <td>1.198039</td>\n",
       "      <td>7.382329</td>\n",
       "      <td>3.368514</td>\n",
       "      <td>1933.888413</td>\n",
       "      <td>2.091793</td>\n",
       "      <td>5.799119e+05</td>\n",
       "      <td>1714.539889</td>\n",
       "      <td>1.219251</td>\n",
       "      <td>0.621551</td>\n",
       "      <td>3416.584089</td>\n",
       "    </tr>\n",
       "    <tr>\n",
       "      <th>std</th>\n",
       "      <td>1.062017</td>\n",
       "      <td>0.596924</td>\n",
       "      <td>2.295587</td>\n",
       "      <td>1.100649</td>\n",
       "      <td>28.307306</td>\n",
       "      <td>2.933323</td>\n",
       "      <td>6.076454e+05</td>\n",
       "      <td>880.677860</td>\n",
       "      <td>0.621170</td>\n",
       "      <td>0.895054</td>\n",
       "      <td>5939.778843</td>\n",
       "    </tr>\n",
       "    <tr>\n",
       "      <th>min</th>\n",
       "      <td>0.000000</td>\n",
       "      <td>0.000000</td>\n",
       "      <td>0.000000</td>\n",
       "      <td>0.000000</td>\n",
       "      <td>1754.000000</td>\n",
       "      <td>0.000000</td>\n",
       "      <td>1.000000e+00</td>\n",
       "      <td>0.000000</td>\n",
       "      <td>0.000000</td>\n",
       "      <td>0.000000</td>\n",
       "      <td>0.000000</td>\n",
       "    </tr>\n",
       "    <tr>\n",
       "      <th>25%</th>\n",
       "      <td>1.000000</td>\n",
       "      <td>1.000000</td>\n",
       "      <td>6.000000</td>\n",
       "      <td>3.000000</td>\n",
       "      <td>1914.000000</td>\n",
       "      <td>2.000000</td>\n",
       "      <td>2.400000e+05</td>\n",
       "      <td>1190.000000</td>\n",
       "      <td>1.000000</td>\n",
       "      <td>0.000000</td>\n",
       "      <td>1600.000000</td>\n",
       "    </tr>\n",
       "    <tr>\n",
       "      <th>50%</th>\n",
       "      <td>2.000000</td>\n",
       "      <td>1.000000</td>\n",
       "      <td>7.000000</td>\n",
       "      <td>3.000000</td>\n",
       "      <td>1930.000000</td>\n",
       "      <td>2.000000</td>\n",
       "      <td>4.400000e+05</td>\n",
       "      <td>1480.000000</td>\n",
       "      <td>1.000000</td>\n",
       "      <td>0.000000</td>\n",
       "      <td>2365.000000</td>\n",
       "    </tr>\n",
       "    <tr>\n",
       "      <th>75%</th>\n",
       "      <td>3.000000</td>\n",
       "      <td>1.000000</td>\n",
       "      <td>8.000000</td>\n",
       "      <td>4.000000</td>\n",
       "      <td>1947.000000</td>\n",
       "      <td>2.000000</td>\n",
       "      <td>7.500000e+05</td>\n",
       "      <td>1966.000000</td>\n",
       "      <td>1.000000</td>\n",
       "      <td>1.000000</td>\n",
       "      <td>4200.000000</td>\n",
       "    </tr>\n",
       "    <tr>\n",
       "      <th>max</th>\n",
       "      <td>14.000000</td>\n",
       "      <td>6.000000</td>\n",
       "      <td>48.000000</td>\n",
       "      <td>24.000000</td>\n",
       "      <td>2019.000000</td>\n",
       "      <td>826.000000</td>\n",
       "      <td>2.510000e+07</td>\n",
       "      <td>45384.000000</td>\n",
       "      <td>44.000000</td>\n",
       "      <td>13.000000</td>\n",
       "      <td>942632.000000</td>\n",
       "    </tr>\n",
       "  </tbody>\n",
       "</table>\n",
       "</div>"
      ],
      "text/plain": [
       "              BATHRM      NUM_UNITS          ROOMS          BEDRM  \\\n",
       "count  106696.000000  106696.000000  106696.000000  106696.000000   \n",
       "mean        2.033103       1.198039       7.382329       3.368514   \n",
       "std         1.062017       0.596924       2.295587       1.100649   \n",
       "min         0.000000       0.000000       0.000000       0.000000   \n",
       "25%         1.000000       1.000000       6.000000       3.000000   \n",
       "50%         2.000000       1.000000       7.000000       3.000000   \n",
       "75%         3.000000       1.000000       8.000000       4.000000   \n",
       "max        14.000000       6.000000      48.000000      24.000000   \n",
       "\n",
       "                 AYB        STORIES         PRICE            GBA  \\\n",
       "count  106455.000000  106652.000000  5.790000e+04  106696.000000   \n",
       "mean     1933.888413       2.091793  5.799119e+05    1714.539889   \n",
       "std        28.307306       2.933323  6.076454e+05     880.677860   \n",
       "min      1754.000000       0.000000  1.000000e+00       0.000000   \n",
       "25%      1914.000000       2.000000  2.400000e+05    1190.000000   \n",
       "50%      1930.000000       2.000000  4.400000e+05    1480.000000   \n",
       "75%      1947.000000       2.000000  7.500000e+05    1966.000000   \n",
       "max      2019.000000     826.000000  2.510000e+07   45384.000000   \n",
       "\n",
       "            KITCHENS     FIREPLACES       LANDAREA  \n",
       "count  106695.000000  106696.000000  106696.000000  \n",
       "mean        1.219251       0.621551    3416.584089  \n",
       "std         0.621170       0.895054    5939.778843  \n",
       "min         0.000000       0.000000       0.000000  \n",
       "25%         1.000000       0.000000    1600.000000  \n",
       "50%         1.000000       0.000000    2365.000000  \n",
       "75%         1.000000       1.000000    4200.000000  \n",
       "max        44.000000      13.000000  942632.000000  "
      ]
     },
     "execution_count": 2,
     "metadata": {},
     "output_type": "execute_result"
    }
   ],
   "source": [
    "#Some Basic EDA:\n",
    "df.describe()"
   ]
  },
  {
   "cell_type": "code",
   "execution_count": 3,
   "metadata": {},
   "outputs": [
    {
     "name": "stdout",
     "output_type": "stream",
     "text": [
      "(106696, 16)\n",
      "   BATHRM           HEAT AC  NUM_UNITS  ROOMS  BEDRM     AYB  STORIES  \\\n",
      "0       4      Warm Cool  Y          2      8      4  1910.0      3.0   \n",
      "1       3      Warm Cool  Y          2     11      5  1898.0      3.0   \n",
      "2       3  Hot Water Rad  Y          2      9      5  1910.0      3.0   \n",
      "3       3  Hot Water Rad  Y          2      8      5  1900.0      3.0   \n",
      "4       2      Warm Cool  Y          1     11      3  1913.0      3.0   \n",
      "\n",
      "       PRICE   GBA         STRUCT        ROOF  KITCHENS  FIREPLACES  LANDAREA  \\\n",
      "0  1095000.0  2522     Row Inside  Metal- Sms       2.0           5      1680   \n",
      "1        NaN  2567     Row Inside    Built Up       2.0           4      1680   \n",
      "2  2100000.0  2522     Row Inside    Built Up       2.0           4      1680   \n",
      "3  1602000.0  2484     Row Inside    Built Up       2.0           3      1680   \n",
      "4        NaN  5255  Semi-Detached     Neopren       1.0           0      2032   \n",
      "\n",
      "  ASSESSMENT_NBHD  \n",
      "0      Old City 2  \n",
      "1      Old City 2  \n",
      "2      Old City 2  \n",
      "3      Old City 2  \n",
      "4      Old City 2  \n"
     ]
    }
   ],
   "source": [
    "print(df.shape)\n",
    "print(df.head())"
   ]
  },
  {
   "cell_type": "code",
   "execution_count": 2,
   "metadata": {},
   "outputs": [
    {
     "data": {
      "text/plain": [
       "<matplotlib.axes._subplots.AxesSubplot at 0x1d73822a710>"
      ]
     },
     "execution_count": 2,
     "metadata": {},
     "output_type": "execute_result"
    },
    {
     "data": {
      "image/png": "[encoded data removed]",
      "text/plain": [
       "<Figure size 432x288 with 1 Axes>"
      ]
     },
     "metadata": {
      "needs_background": "light"
     },
     "output_type": "display_data"
    }
   ],
   "source": [
    "df['STRUCT']=df['STRUCT'].astype(str)\n",
    "df= df[~df.STRUCT.str.contains(\"nan\")]\n",
    "df= df[~df.STRUCT.str.contains(\"Default\")]\n",
    "df= df[~df.STRUCT.str.contains(\"Vacant Land\")]\n",
    "\n",
    "\n",
    "df['STRUCT'].value_counts().plot(kind='bar',linewidth=2,colormap='Pastel1') "
   ]
  },
  {
   "cell_type": "code",
   "execution_count": 3,
   "metadata": {},
   "outputs": [
    {
     "data": {
      "image/png": "[encoded data removed]",
      "text/plain": [
       "<Figure size 1008x576 with 1 Axes>"
      ]
     },
     "metadata": {
      "needs_background": "light"
     },
     "output_type": "display_data"
    }
   ],
   "source": [
    "#Make sure to drop smallest neighborhoods\n",
    "df['ASSESSMENT_NBHD']=df['ASSESSMENT_NBHD'].astype(str)\n",
    "df=df[~df.ASSESSMENT_NBHD.str.contains(\"Woodley\")]\n",
    "df=df[~df.ASSESSMENT_NBHD.str.contains(\"Foggy Bottom\")]\n",
    "df=df[~df.ASSESSMENT_NBHD.str.contains(\"Observatory Circle\")]\n",
    "df=df[~df.ASSESSMENT_NBHD.str.contains(\"nan\")]\n",
    "df=df[~df.ASSESSMENT_NBHD.str.contains(\"Rock Creek Park\")]\n",
    "df=df[~df.ASSESSMENT_NBHD.str.contains(\"Wesley Heights\")]\n",
    "df=df[~df.ASSESSMENT_NBHD.str.contains(\"Hawthorne\")]\n",
    "df=df[~df.ASSESSMENT_NBHD.str.contains(\"Central-tri 1\")]\n",
    "df=df[~df.ASSESSMENT_NBHD.str.contains(\"Massachusetts Avenue Heights\")]\n",
    "df=df[~df.ASSESSMENT_NBHD.str.contains(\"Southwest Waterfront\")]\n",
    "df=df[~df.ASSESSMENT_NBHD.str.contains(\"Barry Farms\")]\n",
    "df=df[~df.ASSESSMENT_NBHD.str.contains(\"Foxhall\")]\n",
    "df=df[~df.ASSESSMENT_NBHD.str.contains(\"Wakefield\")]\n",
    "df=df[~df.ASSESSMENT_NBHD.str.contains(\"Garfield\")]\n",
    "df=df[~df.ASSESSMENT_NBHD.str.contains(\"Fort Lincoln\")]\n",
    "df=df[~df.ASSESSMENT_NBHD.str.contains(\"Colonial Village\")]\n",
    "df=df[~df.ASSESSMENT_NBHD.str.contains(\"Berkley\")]\n",
    "df=df[~df.ASSESSMENT_NBHD.str.contains(\"Rock Creek Park\")]\n",
    "df=df[~df.ASSESSMENT_NBHD.str.contains(\"Brentwood\")]\n",
    "df=df[~df.ASSESSMENT_NBHD.str.contains(\"Kalorama\")]\n",
    "df=df[~df.ASSESSMENT_NBHD.str.contains(\"Crestwood\")]\n",
    "df=df[~df.ASSESSMENT_NBHD.str.contains(\"North Cleveland Park\")]\n",
    "df=df[~df.ASSESSMENT_NBHD.str.contains(\"Burleith\")]\n",
    "df=df[~df.ASSESSMENT_NBHD.str.contains(\"Forest Hills\")]\n",
    "df=df[~df.ASSESSMENT_NBHD.str.contains(\"Rock Creek Park\")]\n",
    "df=df[~df.ASSESSMENT_NBHD.str.contains(\"Kent\")]\n",
    "df=df[~df.ASSESSMENT_NBHD.str.contains(\"Takoma Park\")]\n",
    "df=df[~df.ASSESSMENT_NBHD.str.contains(\"Chillum\")]\n",
    "df=df[~df.ASSESSMENT_NBHD.str.contains(\"Palisades\")]\n",
    "\n",
    "\n",
    "\n",
    "df['PPSQ']=df['PRICE']/df['GBA']\n",
    "#nbhd=df1['ASSESSMENT_NBHD'].astype(float)\n",
    "\n",
    "#nbhd=[df1['ASSESSMENT_NBHD']=='Old City 1','Deanwood','Petworth','Brookland','Old City 2','Columbia Heights','Chevy Chase','Congress Heights','Brightwood','Fort Dupont Park','Capitol Hill','Ridge Park','Hillcrest','Woodridge','Trinidad']\n",
    "#'Old City 1'|'Deanwood'|'Petworth'|'Brookland'|'Old City 2'|'Columbia Heights'|'Chevy Chase'|'Congress Heights'|'Brightwood'|'Fort Dupont Park'|'Capitol Hill'|'Ridge Park'|'Hillcrest'|'Woodridge'|'Trinidad'\n",
    "#'Old City 1','Deanwood','Petworth','Brookland','Old City 2','Columbia Heights','Chevy Chase','Congress Heights','Brightwood','Fort Dupont Park','Capitol Hill','Ridge Park','Hillcrest','Woodridge','Trinidad'\n",
    "plt.figure(figsize=(14,8))\n",
    "plt.xlabel('Neighborhood')\n",
    "#.value_counts()\n",
    "df['ASSESSMENT_NBHD'].value_counts().plot(kind='bar')\n",
    "plt.show()"
   ]
  },
  {
   "cell_type": "code",
   "execution_count": 4,
   "metadata": {},
   "outputs": [
    {
     "name": "stdout",
     "output_type": "stream",
     "text": [
      "['16th Street Heights' 'American University' 'Anacostia' 'Brightwood'\n",
      " 'Brookland' 'Capitol Hill' 'Chevy Chase' 'Cleveland Park'\n",
      " 'Columbia Heights' 'Congress Heights' 'Deanwood' 'Eckington'\n",
      " 'Fort Dupont Park' 'Georgetown' 'Glover Park' 'Hillcrest' 'Ledroit Park'\n",
      " 'Lily Ponds' 'Marshall Heights' 'Michigan Park' 'Mt. Pleasant'\n",
      " 'Old City 1' 'Old City 2' 'Petworth' 'Randle Heights' 'Riggs Park'\n",
      " 'Shepherd Heights' 'Spring Valley' 'Trinidad' 'Woodridge']\n",
      "49840\n"
     ]
    }
   ],
   "source": [
    "#preprocessing data\n",
    "import sklearn.preprocessing as prep\n",
    "#df1=df.drop(['PRICE'], axis=1)\n",
    "df1=df.dropna()\n",
    "X1=df1[['AYB','ROOF', 'GBA', 'STRUCT', 'HEAT']]\n",
    "y=df1['ASSESSMENT_NBHD']\n",
    "le = prep.LabelEncoder()\n",
    "le.fit(y)\n",
    "print(le.classes_)\n",
    "Z=le.transform(y)\n",
    "print(len(df1))\n",
    "enc= prep.OneHotEncoder(handle_unknown='ignore')\n",
    "enc.fit(X1)\n",
    "X2= enc.transform(X1)"
   ]
  },
  {
   "cell_type": "code",
   "execution_count": 6,
   "metadata": {},
   "outputs": [
    {
     "name": "stdout",
     "output_type": "stream",
     "text": [
      "     ASSESSMENT_NBHD\n",
      "1156      Old City 1\n",
      "1157      Old City 1\n",
      "1158      Old City 1\n",
      "1160      Old City 1\n",
      "1162      Old City 1\n",
      "       ASSESSMENT_NBHD\n",
      "82266    Michigan Park\n",
      "82269    Michigan Park\n",
      "82270    Michigan Park\n",
      "105028   Michigan Park\n",
      "105030   Michigan Park\n"
     ]
    }
   ],
   "source": [
    "df2=df1.assign(freq=df1.groupby('ASSESSMENT_NBHD')['ASSESSMENT_NBHD'].transform('count')).sort_values(by=['freq','ASSESSMENT_NBHD'],ascending=[False,True]).loc[:,['ASSESSMENT_NBHD']]\n",
    "#largest neighborhood\n",
    "print(df2.head())\n",
    "#smallest neighborhood\n",
    "print(df2.tail())"
   ]
  },
  {
   "cell_type": "code",
   "execution_count": 7,
   "metadata": {},
   "outputs": [
    {
     "data": {
      "image/png": "[encoded data removed]",
      "text/plain": [
       "<Figure size 1008x576 with 1 Axes>"
      ]
     },
     "metadata": {
      "needs_background": "light"
     },
     "output_type": "display_data"
    }
   ],
   "source": [
    "#Which is the most common type of housing from our Residential data set?\n",
    "plt.figure(figsize=(14,8))\n",
    "plt.xlabel('Stories')\n",
    "df['STORIES'].value_counts().plot(kind='bar', linewidth=1.5)\n",
    "plt.show()\n",
    "#Clearly most buildings are 2 stories."
   ]
  },
  {
   "cell_type": "markdown",
   "metadata": {},
   "source": [
    "### Classifying neighborhoods in DC\n"
   ]
  },
  {
   "cell_type": "code",
   "execution_count": 8,
   "metadata": {},
   "outputs": [
    {
     "name": "stdout",
     "output_type": "stream",
     "text": [
      "0.491840556447298\n",
      "[0.31717091 0.3806374  0.39905679 0.40481928 0.3185654 ]\n"
     ]
    }
   ],
   "source": [
    "from sklearn.model_selection import train_test_split\n",
    "from sklearn.metrics import accuracy_score\n",
    "from sklearn.tree import DecisionTreeClassifier\n",
    "from sklearn.model_selection import cross_val_score\n",
    "from sklearn import metrics\n",
    "\n",
    "clf = DecisionTreeClassifier(criterion=\"entropy\")\n",
    "X_train, X_test, y_train, y_test = train_test_split(X2,Z,test_size=0.3)\n",
    "\n",
    "clf.fit(X_train, y_train)\n",
    "\n",
    "# Print the accuracy from the testing data.\n",
    "print(accuracy_score(clf.predict(X_test), y_test))\n",
    "#print(clf.get_params())\n",
    "\n",
    "scores = cross_val_score(clf, X2, Z, cv=5)\n",
    "print(scores)\n"
   ]
  },
  {
   "cell_type": "code",
   "execution_count": 9,
   "metadata": {},
   "outputs": [
    {
     "name": "stdout",
     "output_type": "stream",
     "text": [
      "[0.2708876  0.32120665 0.36243227 0.35903614 0.31715893]\n",
      "accuracy: 0.370051\n",
      "{'base_score': 0.5, 'booster': 'gbtree', 'colsample_bylevel': 1, 'colsample_bytree': 1, 'gamma': 0, 'learning_rate': 0.1, 'max_delta_step': 0, 'max_depth': 5, 'min_child_weight': 1, 'missing': None, 'n_estimators': 5, 'n_jobs': 1, 'nthread': None, 'objective': 'multi:softprob', 'random_state': 0, 'reg_alpha': 0, 'reg_lambda': 1, 'scale_pos_weight': 1, 'seed': None, 'silent': True, 'subsample': 1, 'max_features': 0.8, 'min_samples_leaf': 0.04}\n"
     ]
    }
   ],
   "source": [
    "import xgboost as xgb\n",
    "from sklearn.metrics import accuracy_score\n",
    "from sklearn.model_selection import cross_val_score\n",
    "\n",
    "X_train, X_test, y_train, y_test= train_test_split(X2, Z, test_size=0.3)\n",
    "model = xgb.XGBClassifier(n_estimators=5, max_depth=5,objective='multi:softmax',max_features=0.8, min_samples_leaf= 0.04)\n",
    "model.fit(X_train, y_train)\n",
    "preds = model.predict(X_test)\n",
    "predictions = [round(value) for value in preds]\n",
    "xgb_param = model.get_xgb_params()\n",
    "xgb_param['num_class'] = 43\n",
    "\n",
    "XZ=xgb.DMatrix(X2,label=Z)\n",
    "\n",
    "cvresults = xgb.cv(params=xgb_param,dtrain=XZ, num_boost_round=5)\n",
    "\n",
    "print(cross_val_score(model, X2, Z, cv=5))\n",
    "# Compute the accuracy: accuracy\n",
    "accuracy = float(np.sum(preds==y_test))/y_test.shape[0]\n",
    "print(\"accuracy: %f\" % (accuracy))\n",
    "print(model.get_params())\n",
    "#XGBoost does not seem to give better accuracy."
   ]
  },
  {
   "cell_type": "code",
   "execution_count": 10,
   "metadata": {},
   "outputs": [
    {
     "name": "stdout",
     "output_type": "stream",
     "text": [
      "Accuracy: 9.77% (7.77%)\n"
     ]
    }
   ],
   "source": [
    "# k-fold cross validation evaluation of xgboost model\n",
    "import xgboost\n",
    "from sklearn.model_selection import KFold\n",
    "from sklearn.model_selection import cross_val_score\n",
    "\n",
    "# split data into X and y\n",
    "X = X2\n",
    "Y = Z\n",
    "# CV model\n",
    "kfold = KFold(n_splits=10, random_state=7)\n",
    "results = cross_val_score(model, X, Y, cv=kfold)\n",
    "print(\"Accuracy: %.2f%% (%.2f%%)\" % (results.mean()*100, results.std()*100))"
   ]
  },
  {
   "cell_type": "markdown",
   "metadata": {},
   "source": [
    "### Regression \n"
   ]
  },
  {
   "cell_type": "code",
   "execution_count": 11,
   "metadata": {},
   "outputs": [
    {
     "name": "stdout",
     "output_type": "stream",
     "text": [
      "Test set RMSE of dt: 2021.66\n",
      "[-4780264.03430514 -7301261.26990019 -3275394.93984145 -3616142.34022788\n",
      " -5881913.71216648]\n",
      "Average cross-validation score: -4970995.26 (+/- 2967420.08)\n"
     ]
    }
   ],
   "source": [
    "from sklearn.tree import DecisionTreeRegressor\n",
    "from sklearn.metrics import mean_squared_error as MSE\n",
    "\n",
    "yr= df1['PRICE']\n",
    "Xr=df1[['STORIES','GBA', 'AYB','ASSESSMENT_NBHD']]\n",
    "\n",
    "enc= prep.OneHotEncoder(handle_unknown='ignore')\n",
    "enc.fit(Xr)\n",
    "Xr= enc.transform(Xr)\n",
    "le = prep.LabelEncoder()\n",
    "le.fit(yr)\n",
    "yr=le.transform(yr)\n",
    "dt = DecisionTreeRegressor(max_depth=8, min_samples_leaf=0.13,)\n",
    "\n",
    "X_train, X_test, y_train, y_test= train_test_split(Xr, yr,test_size=0.3)\n",
    "dt.fit(X_train, y_train)\n",
    "\n",
    "y_pred = dt.predict(X_test)\n",
    "mse_dt = MSE(y_test, y_pred)\n",
    "\n",
    "# Compute rmse_dt\n",
    "rmse_dt = mse_dt**(1/2)\n",
    "\n",
    "# Print rmse_dt\n",
    "print(\"Test set RMSE of dt: {:.2f}\".format(rmse_dt))\n",
    "negmse=metrics.make_scorer(MSE, greater_is_better=False, needs_proba=False, needs_threshold=False) \n",
    "scores = cross_val_score(dt, Xr, yr, cv=5, scoring=negmse)\n",
    "print(scores)\n",
    "print(\"Average cross-validation score: %0.2f (+/- %0.2f)\" % (scores.mean(), scores.std() * 2))"
   ]
  },
  {
   "cell_type": "code",
   "execution_count": 12,
   "metadata": {},
   "outputs": [
    {
     "name": "stdout",
     "output_type": "stream",
     "text": [
      "Best hyerparameters:\n",
      " {'max_depth': 5, 'max_features': 0.8, 'min_samples_leaf': 0.04}\n"
     ]
    }
   ],
   "source": [
    "from sklearn.model_selection import GridSearchCV\n",
    "\n",
    "params_dt = {\n",
    "                     'max_depth': [3,4,5,6],\n",
    "                     'min_samples_leaf': [0.04, 0.06, 0.08],\n",
    "                     'max_features': [0.2, 0.4,0.6, 0.8]\n",
    "                     }\n",
    "\n",
    "grid_dt = GridSearchCV(estimator=dt, \n",
    "                               param_grid=params_dt,\n",
    "                               scoring=negmse,                       \n",
    "                               cv=5,\n",
    "                               n_jobs=-1)\n",
    "grid_dt.fit(X_train, y_train)\n",
    "best_hyperparams = grid_dt.best_params_\n",
    "print('Best hyerparameters:\\n', best_hyperparams)\n"
   ]
  },
  {
   "cell_type": "code",
   "execution_count": 13,
   "metadata": {},
   "outputs": [
    {
     "name": "stdout",
     "output_type": "stream",
     "text": [
      "Linear Regression test set RMSE: 1622.91\n",
      "Regression Tree test set RMSE: 2021.66\n"
     ]
    }
   ],
   "source": [
    "from sklearn.linear_model import LinearRegression\n",
    "lr= LinearRegression()\n",
    "lr.fit(X_train, y_train)\n",
    "# Predict test set labels \n",
    "y_pred_lr = lr.predict(X_test)\n",
    "mse_lr = MSE(y_test, y_pred_lr)\n",
    "\n",
    "# Compute rmse_lr\n",
    "rmse_lr = mse_lr**0.5\n",
    "\n",
    "# Print rmse_lr\n",
    "print('Linear Regression test set RMSE: {:.2f}'.format(rmse_lr))\n",
    "# Print rmse_dt\n",
    "print('Regression Tree test set RMSE: {:.2f}'.format(rmse_dt))"
   ]
  },
  {
   "cell_type": "markdown",
   "metadata": {},
   "source": [
    "### Conclusions\n",
    "We see that our decision tree model, no matter how tuned, produced a larger error than a simple, untuned linear regression model."
   ]
  }
 ],
 "metadata": {
  "kernelspec": {
   "display_name": "Python 3",
   "language": "python",
   "name": "python3"
  },
  "language_info": {
   "codemirror_mode": {
    "name": "ipython",
    "version": 3
   },
   "file_extension": ".py",
   "mimetype": "text/x-python",
   "name": "python",
   "nbconvert_exporter": "python",
   "pygments_lexer": "ipython3",
   "version": "3.7.0"
  }
 },
 "nbformat": 4,
 "nbformat_minor": 2
}
